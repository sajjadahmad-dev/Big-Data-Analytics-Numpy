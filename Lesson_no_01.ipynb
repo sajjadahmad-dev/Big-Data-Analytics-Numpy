{
 "cells": [
  {
   "cell_type": "markdown",
   "metadata": {},
   "source": [
    "# NumPy (Numerical Python) Introduction\n",
    "NumPy is the fundamental package for scientific computing in Python. It serves as the foundation for many other data science and machine learning libraries like Pandas, SciPy, and scikit-learn."
   ]
  },
  {
   "cell_type": "markdown",
   "metadata": {},
   "source": [
    "##  NumPy Arrays vs. Python Lists\n",
    "\n",
    "- **Performance**: NumPy arrays are more memory-efficient than Python lists due to their homogeneous data type. This allows NumPy to perform operations on entire arrays, rather than individual elements.\n",
    "\n",
    "- **Convenience**: NumPy provides functions and methods that make it easier to perform mathematical operations on arrays, such as vectorized operations and broadcasting.\n",
    "\n",
    "- **Broadcasting**: NumPy allows arrays of different shapes to be combined using broadcasting, which enables efficient computations on large arrays."
   ]
  },
  {
   "cell_type": "markdown",
   "metadata": {},
   "source": [
    "# Use Cases for NumPy Arrays\n",
    "\n",
    "- **Numerical computations**: NumPy arrays are ideal for performing mathematical operations on large datasets. They provide high-performance, vectorized operations, and efficient memory management.\n",
    "\n",
    "- **Data analysis**: NumPy arrays can be used to represent and manipulate large datasets, such as images, audio, and scientific data.\n",
    "\n",
    "- **Machine learning and data science**: NumPy arrays are used in machine learning and data science libraries like Scikit-learn, TensorFlow, and PyTorch to perform numerical computations and handle large datasets efficiently."
   ]
  },
  {
   "cell_type": "markdown",
   "metadata": {},
   "source": [
    "### Lets Write First Program"
   ]
  },
  {
   "cell_type": "code",
   "execution_count": 1,
   "metadata": {},
   "outputs": [
    {
     "name": "stdout",
     "output_type": "stream",
     "text": [
      "[1 2 3 4 5]\n"
     ]
    }
   ],
   "source": [
    "# import libaray\n",
    "import numpy as np\n",
    "\n",
    "# create a numpy array\n",
    "\n",
    "arr = np.array([1, 2, 3, 4, 5])\n",
    "\n",
    "# print the array\n",
    "\n",
    "print(arr)\n"
   ]
  },
  {
   "cell_type": "markdown",
   "metadata": {},
   "source": [
    "## Check Dimension"
   ]
  },
  {
   "cell_type": "code",
   "execution_count": 3,
   "metadata": {},
   "outputs": [
    {
     "name": "stdout",
     "output_type": "stream",
     "text": [
      "Dimension 1\n"
     ]
    }
   ],
   "source": [
    "arr1=np.array([1,2,3,4])\n",
    "print(\"Dimensions:\", arr1.ndim)\n"
   ]
  },
  {
   "cell_type": "markdown",
   "metadata": {},
   "source": [
    "### Check Shape"
   ]
  },
  {
   "cell_type": "code",
   "execution_count": 5,
   "metadata": {},
   "outputs": [
    {
     "name": "stdout",
     "output_type": "stream",
     "text": [
      "Shape: (4,)\n"
     ]
    }
   ],
   "source": [
    "print(\"Shape:\", str(arr1.shape))"
   ]
  },
  {
   "cell_type": "markdown",
   "metadata": {},
   "source": [
    "### Create 2D Array"
   ]
  },
  {
   "cell_type": "code",
   "execution_count": 7,
   "metadata": {},
   "outputs": [
    {
     "name": "stdout",
     "output_type": "stream",
     "text": [
      "[[1 2 3 4]\n",
      " [5 6 7 8]]\n",
      "Dimensions: 2\n",
      "Shape: (2, 4)\n"
     ]
    }
   ],
   "source": [
    "array=np.array([[1,2,3,4],\n",
    "                [5,6,7,8]])\n",
    "print(array)\n",
    "print(\"Dimensions:\", array.ndim)\n",
    "\n",
    "print(\"Shape:\", str(array.shape))\n"
   ]
  },
  {
   "cell_type": "markdown",
   "metadata": {},
   "source": [
    "### Accessing Elements in NumPy Arrays\n",
    "1. Zero-based indexing (like Python lists)\n",
    "2. Supports positive and negative indices\n",
    "3. Can use slicing with start:stop:step syntax\n",
    "\n"
   ]
  },
  {
   "cell_type": "code",
   "execution_count": 8,
   "metadata": {},
   "outputs": [
    {
     "name": "stdout",
     "output_type": "stream",
     "text": [
      "8\n"
     ]
    }
   ],
   "source": [
    "print(array[1, 3])"
   ]
  },
  {
   "cell_type": "markdown",
   "metadata": {},
   "source": [
    "### Create 3D Array"
   ]
  },
  {
   "cell_type": "code",
   "execution_count": 13,
   "metadata": {},
   "outputs": [
    {
     "name": "stdout",
     "output_type": "stream",
     "text": [
      "[[[ 1  2  3  4]\n",
      "  [ 5  6  7  8]\n",
      "  [ 9 10 11 12]]\n",
      "\n",
      " [[13 14 15 16]\n",
      "  [17 18 19 20]\n",
      "  [21 22 23 24]]]\n",
      "Dimensions: 3\n",
      "Shape: (2, 3, 4)\n"
     ]
    }
   ],
   "source": [
    "array_1 = np.array([\n",
    "    [[1, 2, 3, 4],\n",
    "     [5, 6, 7, 8],\n",
    "     [9, 10, 11, 12]],\n",
    "    \n",
    "    [[13, 14, 15, 16],\n",
    "     [17, 18, 19, 20],\n",
    "     [21, 22, 23, 24]]\n",
    "])\n",
    "print(array_1)\n",
    "print(\"Dimensions:\", array_1.ndim)\n",
    "\n",
    "print(\"Shape:\", array_1.shape)"
   ]
  },
  {
   "cell_type": "markdown",
   "metadata": {},
   "source": [
    "### Create 4D Array"
   ]
  },
  {
   "cell_type": "code",
   "execution_count": 15,
   "metadata": {},
   "outputs": [
    {
     "name": "stdout",
     "output_type": "stream",
     "text": [
      "[[[[ 1  2  3  4]\n",
      "   [ 5  6  7  8]]\n",
      "\n",
      "  [[ 9 10 11 12]\n",
      "   [13 14 15 16]]\n",
      "\n",
      "  [[17 18 19 20]\n",
      "   [21 22 23 24]]]\n",
      "\n",
      "\n",
      " [[[25 26 27 28]\n",
      "   [29 30 31 32]]\n",
      "\n",
      "  [[33 34 35 36]\n",
      "   [37 38 39 40]]\n",
      "\n",
      "  [[41 42 43 44]\n",
      "   [45 46 47 48]]]]\n",
      "Dimensions: 4\n",
      "Shape: (2, 3, 2, 4)\n"
     ]
    }
   ],
   "source": [
    "array_4d = np.array([\n",
    "    [[[1, 2, 3, 4],\n",
    "      [5, 6, 7, 8]],\n",
    "     \n",
    "     [[9, 10, 11, 12],\n",
    "      [13, 14, 15, 16]],\n",
    "     \n",
    "     [[17, 18, 19, 20],\n",
    "      [21, 22, 23, 24]]],\n",
    "    \n",
    "    [[[25, 26, 27, 28],\n",
    "      [29, 30, 31, 32]],\n",
    "     \n",
    "     [[33, 34, 35, 36],\n",
    "      [37, 38, 39, 40]],\n",
    "     \n",
    "     [[41, 42, 43, 44],\n",
    "      [45, 46, 47, 48]]]\n",
    "])\n",
    "\n",
    "print(array_4d)\n",
    "\n",
    "print(\"Dimensions:\", array_4d.ndim)\n",
    "\n",
    "print(\"Shape:\", array_4d.shape)\n"
   ]
  },
  {
   "cell_type": "code",
   "execution_count": 16,
   "metadata": {},
   "outputs": [
    {
     "name": "stdout",
     "output_type": "stream",
     "text": [
      "[[[[[ 1  2  3  4]\n",
      "    [ 5  6  7  8]]\n",
      "\n",
      "   [[ 9 10 11 12]\n",
      "    [13 14 15 16]]\n",
      "\n",
      "   [[17 18 19 20]\n",
      "    [21 22 23 24]]]\n",
      "\n",
      "\n",
      "  [[[25 26 27 28]\n",
      "    [29 30 31 32]]\n",
      "\n",
      "   [[33 34 35 36]\n",
      "    [37 38 39 40]]\n",
      "\n",
      "   [[41 42 43 44]\n",
      "    [45 46 47 48]]]]\n",
      "\n",
      "\n",
      "\n",
      " [[[[ 1  2  3  4]\n",
      "    [ 5  6  7  8]]\n",
      "\n",
      "   [[ 9 10 11 12]\n",
      "    [13 14 15 16]]\n",
      "\n",
      "   [[17 18 19 20]\n",
      "    [21 22 23 24]]]\n",
      "\n",
      "\n",
      "  [[[25 26 27 28]\n",
      "    [29 30 31 32]]\n",
      "\n",
      "   [[33 34 35 36]\n",
      "    [37 38 39 40]]\n",
      "\n",
      "   [[41 42 43 44]\n",
      "    [45 46 47 48]]]]]\n",
      "Dimensions: 5\n",
      "Shape: (2, 2, 3, 2, 4)\n"
     ]
    }
   ],
   "source": [
    "array_5d = np.array([[\n",
    "    [[[1, 2, 3, 4],\n",
    "      [5, 6, 7, 8]],\n",
    "     \n",
    "     [[9, 10, 11, 12],\n",
    "      [13, 14, 15, 16]],\n",
    "     \n",
    "     [[17, 18, 19, 20],\n",
    "      [21, 22, 23, 24]]],\n",
    "    \n",
    "    [[[25, 26, 27, 28],\n",
    "      [29, 30, 31, 32]],\n",
    "     \n",
    "     [[33, 34, 35, 36],\n",
    "      [37, 38, 39, 40]],\n",
    "     \n",
    "     [[41, 42, 43, 44],\n",
    "      [45, 46, 47, 48]]]],\n",
    "      [\n",
    "    [[[1, 2, 3, 4],\n",
    "      [5, 6, 7, 8]],\n",
    "     \n",
    "     [[9, 10, 11, 12],\n",
    "      [13, 14, 15, 16]],\n",
    "     \n",
    "     [[17, 18, 19, 20],\n",
    "      [21, 22, 23, 24]]],\n",
    "    \n",
    "    [[[25, 26, 27, 28],\n",
    "      [29, 30, 31, 32]],\n",
    "     \n",
    "     [[33, 34, 35, 36],\n",
    "      [37, 38, 39, 40]],\n",
    "     \n",
    "     [[41, 42, 43, 44],\n",
    "      [45, 46, 47, 48]]]\n",
    "]])\n",
    "\n",
    "print(array_5d)\n",
    "\n",
    "print(\"Dimensions:\", array_5d.ndim)\n",
    "\n",
    "print(\"Shape:\", array_5d.shape)"
   ]
  },
  {
   "cell_type": "markdown",
   "metadata": {},
   "source": [
    "### Access last Element in the 5D Array"
   ]
  },
  {
   "cell_type": "code",
   "execution_count": 17,
   "metadata": {},
   "outputs": [
    {
     "name": "stdout",
     "output_type": "stream",
     "text": [
      "48\n"
     ]
    }
   ],
   "source": [
    "print(array_5d[1,1,2,1,3])"
   ]
  },
  {
   "cell_type": "markdown",
   "metadata": {},
   "source": [
    "### --------------------------------------- THANKS -----------------------------------------"
   ]
  }
 ],
 "metadata": {
  "kernelspec": {
   "display_name": "Python 3",
   "language": "python",
   "name": "python3"
  },
  "language_info": {
   "codemirror_mode": {
    "name": "ipython",
    "version": 3
   },
   "file_extension": ".py",
   "mimetype": "text/x-python",
   "name": "python",
   "nbconvert_exporter": "python",
   "pygments_lexer": "ipython3",
   "version": "3.12.8"
  }
 },
 "nbformat": 4,
 "nbformat_minor": 2
}
