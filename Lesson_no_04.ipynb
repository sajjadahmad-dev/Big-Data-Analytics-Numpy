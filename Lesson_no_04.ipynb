{
 "cells": [
  {
   "cell_type": "markdown",
   "metadata": {},
   "source": [
    "# **Feature Selection and Dimension Reduction**\n",
    "Both feature selection and dimension reduction are techniques used in machine learning and data analysis to handle high-dimensional data, but they work in different ways:\n",
    "## **Feature Selection**\n",
    "Feature selection involves identifying and selecting a subset of the original features that are most relevant to the prediction task. This process eliminates redundant or irrelevant features while preserving the most informative ones.\n",
    "## **Dimension Reduction**\n",
    "Dimension reduction transforms the original high-dimensional data into a lower-dimensional space while trying to preserve the essential information and structure of the data."
   ]
  },
  {
   "cell_type": "markdown",
   "metadata": {},
   "source": [
    "**Feature Selection**"
   ]
  },
  {
   "cell_type": "code",
   "execution_count": 15,
   "metadata": {},
   "outputs": [],
   "source": [
    "from sklearn.datasets import load_breast_cancer\n",
    "from sklearn.feature_selection import SelectKBest, chi2 , _mutual_info, mutual_info_classif, mutual_info_regression, SelectPercentile"
   ]
  },
  {
   "cell_type": "code",
   "execution_count": 1,
   "metadata": {},
   "outputs": [],
   "source": [
    "from sklearn.datasets import load_breast_cancer\n",
    "from sklearn.feature_selection import SelectKBest ,SelectFdr ,SelectFpr ,SelectPercentile ,chi2 , mutual_info_classif ,mutual_info_regression "
   ]
  },
  {
   "cell_type": "code",
   "execution_count": 4,
   "metadata": {},
   "outputs": [
    {
     "name": "stdout",
     "output_type": "stream",
     "text": [
      "(569, 30)\n",
      "(569,)\n"
     ]
    }
   ],
   "source": [
    "X,y=load_breast_cancer(return_X_y=True)\n",
    "print(X.shape)\n",
    "print(y.shape)"
   ]
  },
  {
   "cell_type": "code",
   "execution_count": 16,
   "metadata": {},
   "outputs": [
    {
     "name": "stdout",
     "output_type": "stream",
     "text": [
      "(569, 30)\n"
     ]
    }
   ],
   "source": [
    "x, y=load_breast_cancer(return_X_y=True)\n",
    "print(x.shape)"
   ]
  },
  {
   "cell_type": "markdown",
   "metadata": {},
   "source": [
    "# 📘 Explanation of Methods\n",
    "## ✅ chi2\n",
    "Type: Filter method\n",
    "\n",
    "Use Case: Classification tasks\n",
    "\n",
    "How it works: Calculates the chi-squared statistic between each feature and the class label. It measures how much the observed distribution of class labels deviates from what would be expected if they were independent.\n",
    "\n",
    "Limitation: Requires non-negative features.\n",
    "\n",
    "## ✅ mutual_info_classif\n",
    "Type: Filter method\n",
    "\n",
    "Use Case: Classification tasks\n",
    "\n",
    "How it works: Computes mutual information between each feature and the target. Measures the amount of information gained about the target by knowing the feature. Can capture non-linear dependencies.\n",
    "\n",
    "Advantages: Works with both discrete and continuous variables.\n",
    "\n",
    "## ✅ mutual_info_regression\n",
    "Type: Filter method\n",
    "\n",
    "Use Case: Regression tasks\n",
    "\n",
    "How it works: Same concept as mutual_info_classif but designed for continuous target variables.\n",
    "\n",
    "## ✅ SelectKBest\n",
    "Description: Selects the top K features with the highest scores using the chosen scoring function.\n",
    "\n",
    "## ✅ SelectPercentile\n",
    "Description: Selects the top X% percentile of features based on score. For example, percentile=20 picks the top 20% features."
   ]
  },
  {
   "cell_type": "code",
   "execution_count": null,
   "metadata": {},
   "outputs": [
    {
     "name": "stdout",
     "output_type": "stream",
     "text": [
      "(569, 5)\n",
      "(569, 5)\n"
     ]
    }
   ],
   "source": [
    "k_chai=SelectKBest(chi2,k=5).fit_transform(X,y)\n",
    "print(k_chai.shape)\n",
    "per_chi=SelectPercentile(chi2,percentile=14).fit_transform(X,y)\n",
    "print(per_chi.shape)\n",
    "S_fdr=SelectFdr()\n",
    "print(k_chai.get)"
   ]
  },
  {
   "cell_type": "code",
   "execution_count": 21,
   "metadata": {},
   "outputs": [
    {
     "name": "stdout",
     "output_type": "stream",
     "text": [
      "(569, 3)\n",
      "(569, 3)\n"
     ]
    }
   ],
   "source": [
    "k_chi=SelectKBest(mutual_info_classif, k=3).fit_transform(X, y)\n",
    "print(k_chi.shape)\n",
    "per_chi=SelectPercentile(chi2, percentile=10).fit_transform(X,y)\n",
    "print(per_chi.shape)"
   ]
  },
  {
   "cell_type": "code",
   "execution_count": 18,
   "metadata": {},
   "outputs": [
    {
     "name": "stdout",
     "output_type": "stream",
     "text": [
      "['mean concave points' 'worst radius' 'worst perimeter' 'worst area'\n",
      " 'worst concave points']\n"
     ]
    }
   ],
   "source": [
    "bc=load_breast_cancer()\n",
    "X,Y=bc.data, bc.target\n",
    "feature_name=bc.feature_names\n",
    "\n",
    "\n",
    "\n",
    "perchi=SelectPercentile(mutual_info_classif, percentile=15).fit(X,Y)\n",
    "trans_per=perchi.transform(X)\n",
    "print(feature_name[perchi.get_support()])"
   ]
  },
  {
   "cell_type": "markdown",
   "metadata": {},
   "source": [
    "## ✅ VarianceThreshold\n",
    "Removes features with low variance.\n",
    "\n",
    "Good for removing constant or near-constant columns."
   ]
  },
  {
   "cell_type": "code",
   "execution_count": null,
   "metadata": {},
   "outputs": [
    {
     "name": "stdout",
     "output_type": "stream",
     "text": [
      "(569, 10)\n"
     ]
    }
   ],
   "source": [
    "from sklearn.datasets import load_diabetes\n",
    "from sklearn.feature_selection import VarianceThreshold\n",
    "\n",
    "\n",
    "selector=VarianceThreshold(threshold=0.5).fit_transform(X, Y)\n",
    "print(selector.shape)\n",
    "\n",
    "\n"
   ]
  },
  {
   "cell_type": "markdown",
   "metadata": {},
   "source": [
    "## ✅ `f_classif` (ANOVA F-test for classification)\n",
    "Measures linear dependency between features and class.\n",
    "\n",
    "Assumes features are normally distributed."
   ]
  },
  {
   "cell_type": "code",
   "execution_count": 30,
   "metadata": {},
   "outputs": [
    {
     "name": "stdout",
     "output_type": "stream",
     "text": [
      "(569, 10)\n"
     ]
    }
   ],
   "source": [
    "from sklearn.feature_selection import  f_classif\n",
    "\n",
    "anova_selector = SelectKBest(score_func=f_classif, k=10).fit_transform(X,Y)\n",
    "print(anova_selector.shape)"
   ]
  },
  {
   "cell_type": "markdown",
   "metadata": {},
   "source": [
    "## ✅ `f_regression`\n",
    "Like f_classif but for regression problems."
   ]
  },
  {
   "cell_type": "code",
   "execution_count": 32,
   "metadata": {},
   "outputs": [
    {
     "name": "stdout",
     "output_type": "stream",
     "text": [
      "(569, 5)\n"
     ]
    }
   ],
   "source": [
    "from sklearn.feature_selection import  f_regression\n",
    "\n",
    "reg_selector = SelectKBest(score_func=f_regression, k=5).fit_transform(X,Y)\n",
    "print(reg_selector.shape)"
   ]
  },
  {
   "cell_type": "markdown",
   "metadata": {},
   "source": [
    "## ✅ `SelectFpr` / `SelectFdr` / `SelectFwe`\n",
    "These select features based on false positive rate, false discovery rate, or family-wise error rate."
   ]
  },
  {
   "cell_type": "code",
   "execution_count": 34,
   "metadata": {},
   "outputs": [
    {
     "name": "stdout",
     "output_type": "stream",
     "text": [
      "(569, 17)\n",
      "(569, 17)\n",
      "(569, 16)\n"
     ]
    }
   ],
   "source": [
    "from sklearn.feature_selection import SelectFpr, SelectFwe, SelectFdr\n",
    "\n",
    "fpr_selector = SelectFpr(score_func=chi2, alpha=0.05).fit_transform(X,Y)\n",
    "print(fpr_selector.shape)\n",
    "\n",
    "fdr_selector = SelectFdr(score_func=chi2, alpha=0.05).fit_transform(X,Y)\n",
    "print(fdr_selector.shape)\n",
    "\n",
    "fwe_selector = SelectFwe(score_func=chi2, alpha=0.05).fit_transform(X,Y)\n",
    "print(fwe_selector.shape)"
   ]
  }
 ],
 "metadata": {
  "kernelspec": {
   "display_name": "Python 3",
   "language": "python",
   "name": "python3"
  },
  "language_info": {
   "codemirror_mode": {
    "name": "ipython",
    "version": 3
   },
   "file_extension": ".py",
   "mimetype": "text/x-python",
   "name": "python",
   "nbconvert_exporter": "python",
   "pygments_lexer": "ipython3",
   "version": "3.9.13"
  }
 },
 "nbformat": 4,
 "nbformat_minor": 2
}
